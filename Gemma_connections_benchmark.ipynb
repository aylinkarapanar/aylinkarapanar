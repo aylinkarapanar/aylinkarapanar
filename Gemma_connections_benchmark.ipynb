{
  "cells": [
    {
      "cell_type": "markdown",
      "metadata": {
        "id": "view-in-github",
        "colab_type": "text"
      },
      "source": [
        "<a href=\"https://colab.research.google.com/github/aylinkarapanar/aylinkarapanar/blob/main/Gemma_connections_benchmark.ipynb\" target=\"_parent\"><img src=\"https://colab.research.google.com/assets/colab-badge.svg\" alt=\"Open In Colab\"/></a>"
      ]
    },
    {
      "cell_type": "markdown",
      "metadata": {
        "id": "9alApE8s8Oy7"
      },
      "source": [
        "#Downloads & Imports"
      ]
    },
    {
      "cell_type": "code",
      "execution_count": null,
      "metadata": {
        "id": "2FIpsbo27IQa"
      },
      "outputs": [],
      "source": [
        "#Downloads\n",
        "%pip install torch torchvision torchaudio #installs the deep learning library\n",
        "%pip install transformers -U # Transformer library serves as the backend for running LLMs\n",
        "%pip install sentencepiece # Embeddings with LLMs - also needed\n",
        "%pip install accelerate # Accelarates running LLMs through some tricks - produced by Meta but open-source and maintainers usually from HF\n",
        "%pip install huggingface_hub # The HF Hub\n",
        "%pip install langchain # Langchain\n",
        "%pip install pandas"
      ]
    },
    {
      "cell_type": "code",
      "execution_count": null,
      "metadata": {
        "id": "B-y-bSwt7OPu",
        "colab": {
          "base_uri": "https://localhost:8080/"
        },
        "outputId": "844d0de3-d70c-4fd2-9a7b-3ae2e2c7f7a0"
      },
      "outputs": [
        {
          "output_type": "stream",
          "name": "stdout",
          "text": [
            "Mounted at drive\n"
          ]
        }
      ],
      "source": [
        "#Imports\n",
        "import os\n",
        "import requests\n",
        "import pandas as pd\n",
        "import seaborn as sns\n",
        "import matplotlib.pyplot as plt\n",
        "import random\n",
        "import time\n",
        "from langchain_community.llms import HuggingFaceHub\n",
        "from langchain.output_parsers import ResponseSchema\n",
        "from langchain_core.prompts import PromptTemplate\n",
        "from langchain_core.output_parsers import JsonOutputParser\n",
        "from langchain_core.exceptions import OutputParserException\n",
        "\n",
        "#mounting google drive to store the results dataframe as csv\n",
        "from google.colab import drive\n",
        "drive.mount('drive')"
      ]
    },
    {
      "cell_type": "markdown",
      "metadata": {
        "id": "z5w17h888c_P"
      },
      "source": [
        "# The Connections DataFrame"
      ]
    },
    {
      "cell_type": "code",
      "execution_count": null,
      "metadata": {
        "id": "lj7hNqVE7QJz"
      },
      "outputs": [],
      "source": [
        "#Getting the data\n",
        "github_url = \"https://raw.githubusercontent.com/Eyefyre/NYT-Connections-Answers/c1259fe799fce026358998a6aff4906e4ef243d6/connections.json\"\n",
        "response = requests.get(github_url)\n",
        "data = response.json()\n",
        "\n",
        "# Define columns for the DataFrame\n",
        "columns = [\"id\"]\n",
        "for i in range(1, 5):\n",
        "    columns.extend([f\"group{i}_name\", f\"group{i}_members1\", f\"group{i}_members2\", f\"group{i}_members3\", f\"group{i}_members4\"])\n",
        "\n",
        "#Create an empty DataFrame from the defined column names\n",
        "df = pd.DataFrame(columns=columns)\n",
        "\n",
        "#Iterate through the data (JSON format) and store the necessary information in the dataframe\n",
        "rows = []\n",
        "for entry in data:\n",
        "    row = {\"id\": entry[\"id\"]}\n",
        "    for i, answer in enumerate(entry[\"answers\"]):\n",
        "        row[f\"group{i+1}_name\"] = answer[\"group\"].lower()\n",
        "        members = answer[\"members\"]\n",
        "        row[f\"group{i+1}_members1\"] = members[0].lower()\n",
        "        row[f\"group{i+1}_members2\"] = members[1].lower()\n",
        "        row[f\"group{i+1}_members3\"] = members[2].lower()\n",
        "        row[f\"group{i+1}_members4\"] = members[3].lower()\n",
        "    rows.append(row)\n",
        "\n",
        "# Concatenate the rows into the DataFrame\n",
        "df = pd.concat([df, pd.DataFrame(rows)], ignore_index=True)\n",
        "\n",
        "#Exclude the entry from 1st of April 2024, because it includes an April Fool's joke where NYT changed the format of the game to include emojis\n",
        "df = df[df['id'] != 295]"
      ]
    },
    {
      "cell_type": "code",
      "execution_count": null,
      "metadata": {
        "id": "z4orF5AV9Jzv"
      },
      "outputs": [],
      "source": [
        "#Display the dataframe\n",
        "df"
      ]
    },
    {
      "cell_type": "markdown",
      "metadata": {
        "id": "LT6G3m5D8hz6"
      },
      "source": [
        "#Functions for the Execution of the Benchmark"
      ]
    },
    {
      "cell_type": "code",
      "execution_count": null,
      "metadata": {
        "id": "MgB3HTtx7Ro6"
      },
      "outputs": [],
      "source": [
        "#function for output formatting, defining temperatures, and templates of the query\n",
        "\n",
        "def process_data(data_df, temperature_value, template_format):\n",
        "\n",
        "    # Define the Large Language Model and the temperature\n",
        "    llm = HuggingFaceHub(repo_id=\"google/gemma-1.1-7b-it\", model_kwargs={\"temperature\": temperature_value})\n",
        "\n",
        "    # Define response schemas, the output is expected be in a dictionary format\n",
        "    response_schemas = [\n",
        "        ResponseSchema(name=\"group1_members\", description=\"this will be a comma separated list of 4 words (only words)\"),\n",
        "        ResponseSchema(name=\"group2_members\", description=\"this will be a comma separated list of 4 words (only words)\"),\n",
        "        ResponseSchema(name=\"group3_members\", description=\"this will be a comma separated list of 4 words (only words)\"),\n",
        "        ResponseSchema(name=\"group4_members\", description=\"this will be a comma separated list of 4 words (only words)\"),\n",
        "    ]\n",
        "\n",
        "    # Define output parser\n",
        "    output_parser = JsonOutputParser()\n",
        "\n",
        "    # Define prompt template\n",
        "    prompt = PromptTemplate(\n",
        "        template=template_format,\n",
        "        input_variables=[\"question\"],\n",
        "        partial_variables={\"format_instructions\": output_parser.get_format_instructions()},\n",
        "    )\n",
        "\n",
        "    result_dfs = []\n",
        "\n",
        "    # Define function to process each row\n",
        "    def process_row(row):\n",
        "\n",
        "        #Get the members of each group and put them in a list\n",
        "        row_members = [row[f\"group{i}_members{j}\"] for i in range(1, 5) for j in range(1, 5)]\n",
        "        #Set seed for shuffling\n",
        "        #(the reason for doing this is that the randomness of shuffling creates different responses and we wanted eliminate it as much as possible)\n",
        "        random.seed(1)\n",
        "        #Shuffle the members\n",
        "        random.shuffle(row_members)\n",
        "        #Define the chain\n",
        "        chain = prompt | llm | output_parser\n",
        "\n",
        "        #Try block to handle potential exceptions during the chain invocation\n",
        "        try:\n",
        "            #Invoke the chain with the shuffled list of members\n",
        "            llm_grouping = chain.invoke({\"question\": row_members}) # or {}\n",
        "\n",
        "            #If the grouping is a list which not the desired format, return an empty dataframe\n",
        "            if isinstance(llm_grouping, list):\n",
        "                return pd.DataFrame([\"\"] * len(row), index=row.index).T\n",
        "\n",
        "            #If the grouping is in the desired format, separate the data and create a dataframe\n",
        "            separated_data = {}\n",
        "            for i, (group_name, members) in enumerate(llm_grouping.items(), start=1):\n",
        "                for j, member in enumerate(members, start=1):\n",
        "                    column_name = f\"group{i}_members{j}\"\n",
        "                    separated_data[column_name] = member\n",
        "            llm_grouping_df = pd.DataFrame([separated_data])\n",
        "            return llm_grouping_df\n",
        "\n",
        "        #If there is an expection with the OutputParser, return an empty dataframe\n",
        "        except OutputParserException as e:\n",
        "            return pd.DataFrame([\"\"] * len(row), index=row.index).T\n",
        "\n",
        "    # Process each row in the DataFrame\n",
        "    for _, row in data_df.iterrows():\n",
        "        result_df = process_row(row)\n",
        "        result_dfs.append(result_df if not result_df.empty else pd.DataFrame())\n",
        "\n",
        "    # Concatenate the result DataFrames\n",
        "    result_df = pd.concat(result_dfs, ignore_index=True)\n",
        "\n",
        "    # Select only columns starting with 'group'\n",
        "    selected_columns = [col for col in result_df.columns if col.startswith('group')]\n",
        "    result_df = result_df[selected_columns]\n",
        "\n",
        "    return result_df\n"
      ]
    },
    {
      "cell_type": "code",
      "execution_count": null,
      "metadata": {
        "id": "LIkDgMqb7YFa"
      },
      "outputs": [],
      "source": [
        "#Function for calculating the difference between llm groupings and the answers\n",
        "\n",
        "def compare_grouping_df(answers_df, llm_df):\n",
        "\n",
        "    total_score = 0\n",
        "    # Iterate over each row of both answers and llm dataframes\n",
        "    for index, (answers_row, llm_row) in enumerate(zip(answers_df.iterrows(), llm_df.iterrows())):\n",
        "        # Initialize score for the current row to 0\n",
        "        score = 0\n",
        "\n",
        "        _, answers_row = answers_row\n",
        "        _, llm_row = llm_row\n",
        "\n",
        "        # Loop over each of the four groups\n",
        "        for i in range(1, 5):\n",
        "            # Initialize a list to store the members\n",
        "            llm_group_members = []\n",
        "\n",
        "            # Loop over each member of the llm grouping and store it in the list\n",
        "            for j in range(1, 5):\n",
        "                llm_group_members.append(llm_row[f'group{i}_members{j}'])\n",
        "\n",
        "            # Loop over each member in the answers and store it in the list\n",
        "            for k in range(1, 5):\n",
        "                selected_group_members = []\n",
        "                for group_col in answers_row.filter(regex=f'group{k}_members.*').index:\n",
        "                    selected_group_members.append(answers_row[group_col])\n",
        "\n",
        "                # Count the number of matching members between llm grouping and answer group\n",
        "                matched_count = sum(1 for word in llm_group_members if word in selected_group_members)\n",
        "\n",
        "                # Update the score based on the number of matches per group\n",
        "                if matched_count == 4:\n",
        "                    score += 3\n",
        "                elif matched_count == 3:\n",
        "                    score += 2\n",
        "                elif matched_count == 2:\n",
        "                    score += 1\n",
        "        total_score += score\n",
        "\n",
        "    # Calculate the total possible score based on the number of rows and possible points per row\n",
        "    total_possible_score = len(answers_df) * 12\n",
        "\n",
        "    # Calculate the accuracy percentage\n",
        "    accuracy_percentage = (total_score / total_possible_score) * 100\n",
        "\n",
        "    return accuracy_percentage"
      ]
    },
    {
      "cell_type": "markdown",
      "metadata": {
        "id": "bcQoJWT38o36"
      },
      "source": [
        "#Defining Test Parameters"
      ]
    },
    {
      "cell_type": "code",
      "execution_count": null,
      "metadata": {
        "id": "Tm564Wo67qj6"
      },
      "outputs": [],
      "source": [
        "# Define temperatures and the templates\n",
        "temperatures = [0.25, 0.5, 0.75, 1, 1.25, 1.5]\n",
        "\n",
        "template_names = [\"template_NYT\", \"template_NYT_example\", \"template_altered\", \"template_altered_example\"]\n",
        "\n",
        "templates = {\n",
        "    \"template_NYT\": \"Find groups of four items that share something in common. Select four items per group. There are four groups in total. Each puzzle has exactly one solution. Every word is used a single time. Here are the words that needs to be grouped: \\n{format_instructions}\\n{question}\",\n",
        "\n",
        "    \"template_NYT_example\": \"\"\"Find groups of four items that share something in common. Select four items per group. There are four groups in total.\n",
        "                          Each puzzle has exactly one solution. Every word is used a single time.\n",
        "                          Here is an example grouping:\n",
        "                          group1: fancy, love, relish, savor;\n",
        "                          group2: like, literally, um, well;\n",
        "                          group3: cylinder, pin, spring, tumbler\n",
        "                          group4: carrot, hurts, jewel, om\n",
        "                          Here are the words that needs to be grouped: \\n{format_instructions}\\n{question}\"\"\",\n",
        "\n",
        "    \"template_altered\": \"\"\"Discover sets of four items that exhibit a common trait. Choose four items for each set. There are four sets in total.\n",
        "                      Each puzzle has precisely one solution. Every word must be used exactly once.\n",
        "                      Here are the words to be organized:\\n{format_instructions}\\n{question}\"\"\",\n",
        "\n",
        "    \"template_altered_example\": \"\"\"Discover sets of four items that exhibit a common trait. Choose four items for each set. There are four sets in total.\n",
        "                              Each puzzle has precisely one solution. Every word must be used exactly once.\n",
        "                              Here is an example grouping:\n",
        "                              group1: fancy, love, relish, savor;\n",
        "                              group2: like, literally, um, well;\n",
        "                              group3: cylinder, pin, spring, tumbler\n",
        "                              group4: carrot, hurts, jewel, om\n",
        "                              Here are the words to be organized:\\n{format_instructions}\\n{question}\"\"\"\n",
        "}\n"
      ]
    },
    {
      "cell_type": "code",
      "execution_count": null,
      "metadata": {
        "id": "9PylTKdkrSI1"
      },
      "outputs": [],
      "source": [
        "# Define the rows that are to be tested\n",
        "df_sampled = df[:100]"
      ]
    },
    {
      "cell_type": "code",
      "execution_count": null,
      "metadata": {
        "id": "xZw_P2fP7jhd"
      },
      "outputs": [],
      "source": [
        "#creating a dataframe to store the accuracy score of each combination\n",
        "accuracy_df = pd.DataFrame(index=template_names, columns=temperatures)"
      ]
    },
    {
      "cell_type": "markdown",
      "metadata": {
        "id": "EkO3BZJA8tsD"
      },
      "source": [
        "#Testing"
      ]
    },
    {
      "cell_type": "code",
      "execution_count": null,
      "metadata": {
        "id": "X_RPBjzc7w9C"
      },
      "outputs": [],
      "source": [
        "# Define the tokens\n",
        "tokens = [\n",
        "    {\"HUGGINGFACEHUB_API_TOKEN\" : \"00\", \"HF_TOKEN\" : \"00\"},\n",
        "    {\"HUGGINGFACEHUB_API_TOKEN\" : \"01\", \"HF_TOKEN\" : \"01\"}\n",
        "]\n",
        "\n",
        "token_index = 0\n",
        "combinations_counter = 0\n",
        "total_iterations_per_token = 3\n",
        "max_iterations = len(temperatures) * len(template_names)\n",
        "\n",
        "# Run the loop for a maximum of 6 iterations per token\n",
        "while combinations_counter < max_iterations:\n",
        "    for temperature in temperatures:\n",
        "        for template_name in template_names:\n",
        "          token = tokens[token_index]\n",
        "\n",
        "          os.environ[\"HUGGINGFACEHUB_API_TOKEN\"] = token[\"HUGGINGFACEHUB_API_TOKEN\"]\n",
        "          os.environ[\"HF_TOKEN\"] = token[\"HF_TOKEN\"]\n",
        "\n",
        "          # Process data with the selected token\n",
        "          result_df = process_data(df_sampled, temperature, templates[template_name])\n",
        "          accuracy_percentage = compare_grouping_df(df_sampled, result_df)\n",
        "\n",
        "          # Save the result to CSV\n",
        "          file_name = f\"result_{temperature}_{template_name}.csv\"\n",
        "          result_df.to_csv(file_name)\n",
        "          !cp $file_name \"drive/My Drive/\"\n",
        "\n",
        "          # Store accuracy percentage in the dataframe\n",
        "          accuracy_df.at[template_name, temperature] = accuracy_percentage\n",
        "\n",
        "          # Check if three combinations for the current token have been processed\n",
        "          # And switch to the next token if necessary\n",
        "          if (combinations_counter > 0) and (combinations_counter % total_iterations_per_token == 0):\n",
        "              token_index = (token_index + 1) % len(tokens)\n",
        "\n",
        "          combinations_counter += 1\n",
        "          print(token_index, combinations_counter)\n",
        "          print(temperature, template_name, accuracy_percentage)\n",
        "          # Check if six combinations have been processed\n",
        "          if combinations_counter > 0 and combinations_counter % (len(tokens) * total_iterations_per_token) == 0:\n",
        "              # Wait for an hour\n",
        "              print(\"Waiting for an hour...\")\n",
        "              time.sleep(3600)\n",
        "\n",
        "\n",
        "          time.sleep(10)\n",
        "\n",
        "            # If maximum iterations have been reached, break out of the loops\n",
        "          if combinations_counter >= max_iterations:\n",
        "              break\n",
        "        if combinations_counter >= max_iterations:\n",
        "            break"
      ]
    },
    {
      "cell_type": "markdown",
      "metadata": {
        "id": "hzxhD1Aq8vtM"
      },
      "source": [
        "#Results & Visualisations\n",
        "\n"
      ]
    },
    {
      "cell_type": "code",
      "execution_count": null,
      "metadata": {
        "id": "ssT_yf2N3d5i",
        "colab": {
          "base_uri": "https://localhost:8080/"
        },
        "outputId": "f4cc50b4-baa6-42d1-8fdc-6578d519b219"
      },
      "outputs": [
        {
          "output_type": "stream",
          "name": "stdout",
          "text": [
            "Cloning into 'benchmark'...\n",
            "remote: Enumerating objects: 31, done.\u001b[K\n",
            "remote: Counting objects: 100% (31/31), done.\u001b[K\n",
            "remote: Compressing objects: 100% (18/18), done.\u001b[K\n",
            "remote: Total 31 (delta 11), reused 31 (delta 11), pack-reused 0\u001b[K\n",
            "Receiving objects: 100% (31/31), 92.93 KiB | 2.16 MiB/s, done.\n",
            "Resolving deltas: 100% (11/11), done.\n"
          ]
        }
      ],
      "source": [
        "# Github link for dataframes for each temperature & template\n",
        "!git clone https://github.com/aylinkarapanar/benchmark\n"
      ]
    },
    {
      "cell_type": "code",
      "execution_count": null,
      "metadata": {
        "id": "-SzoNJI4p7J6",
        "colab": {
          "base_uri": "https://localhost:8080/"
        },
        "outputId": "b03e723c-00c4-4a81-8ff0-3098d42daf18"
      },
      "outputs": [
        {
          "output_type": "stream",
          "name": "stdout",
          "text": [
            "result_0.25_template_altered.csv\t  result_1.25_template_altered.csv\n",
            "result_0.25_template_altered_example.csv  result_1.25_template_altered_example.csv\n",
            "result_0.25_template_NYT.csv\t\t  result_1.25_template_NYT.csv\n",
            "result_0.25_template_NYT_example.csv\t  result_1.25_template_NYT_example.csv\n",
            "result_0.5_template_altered.csv\t\t  result_1.5_template_altered.csv\n",
            "result_0.5_template_altered_example.csv   result_1.5_template_altered_example.csv\n",
            "result_0.5_template_NYT.csv\t\t  result_1.5_template_NYT.csv\n",
            "result_0.5_template_NYT_example.csv\t  result_1.5_template_NYT_example.csv\n",
            "result_0.75_template_altered.csv\t  result_1_template_altered.csv\n",
            "result_0.75_template_altered_example.csv  result_1_template_altered_example.csv\n",
            "result_0.75_template_NYT.csv\t\t  result_1_template_NYT.csv\n",
            "result_0.75_template_NYT_example.csv\t  result_1_template_NYT_example.csv\n"
          ]
        }
      ],
      "source": [
        "!ls benchmark/result_dataframes"
      ]
    },
    {
      "cell_type": "code",
      "execution_count": null,
      "metadata": {
        "id": "FrGzwZDe3tra"
      },
      "outputs": [],
      "source": [
        "# Loop through the CSV files\n",
        "for temperature in temperatures:\n",
        "    for template_name in template_names:\n",
        "        # Load the CSV file\n",
        "        file_path = f\"benchmark/result_dataframes/result_{temperature}_{template_name}.csv\"\n",
        "        df = pd.read_csv(file_path)\n",
        "\n",
        "        # Calculate accuracy score\n",
        "        accuracy_percentage = compare_grouping_df(df_sampled, df)\n",
        "\n",
        "        # Record accuracy score in the accuracy_df DataFrame\n",
        "        accuracy_df.at[template_name, temperature] = accuracy_percentage"
      ]
    },
    {
      "cell_type": "code",
      "execution_count": null,
      "metadata": {
        "id": "2LIS1QbQ8yii"
      },
      "outputs": [],
      "source": [
        "# Display the accuracy_df DataFrame\n",
        "accuracy_df"
      ]
    },
    {
      "cell_type": "code",
      "execution_count": null,
      "metadata": {
        "id": "hXAfFKGuV48N"
      },
      "outputs": [],
      "source": [
        "# Save the accuracy_df to Drive\n",
        "accuracy_df.to_csv('accuracy_df.csv')\n",
        "!cp accuracy_df.csv \"drive/My Drive/\""
      ]
    },
    {
      "cell_type": "markdown",
      "metadata": {
        "id": "ulcvsJJl-Ou9"
      },
      "source": [
        "## Performance Against Random Shuffling"
      ]
    },
    {
      "cell_type": "code",
      "execution_count": null,
      "metadata": {
        "id": "XcRn789u-Rmi"
      },
      "outputs": [],
      "source": [
        "members_df = df_sampled.drop(columns=['id', 'group1_name', 'group2_name', 'group3_name', 'group4_name'])\n",
        "\n",
        "#Shuffle members in a row with same seed as before\n",
        "def shuffle_row_seed(row):\n",
        "    row_list = list(row)\n",
        "    random.seed(1)\n",
        "    random.shuffle(row_list)\n",
        "    return row_list\n",
        "\n",
        "# Apply the shuffle_row_seed function to each row of the DataFrame and expand the result\n",
        "df_shuffled_seed = members_df.apply(shuffle_row_seed, axis=1, result_type='expand')\n",
        "\n",
        "# Rename the columns of the shuffled DataFrame\n",
        "df_shuffled_seed.columns = [f\"group{i}_members{j}\" for i in range(1, 5) for j in range(1, 5)]"
      ]
    },
    {
      "cell_type": "code",
      "execution_count": null,
      "metadata": {
        "id": "8ecyRRLMWMIm"
      },
      "outputs": [],
      "source": [
        "# Shuffle members in a row randomly for every row\n",
        "def shuffle_row(row):\n",
        "    row_list = list(row)\n",
        "    random.shuffle(row_list)\n",
        "    return row_list\n",
        "\n",
        "df_shuffled = members_df.apply(shuffle_row, axis=1, result_type='expand')\n",
        "\n",
        "df_shuffled.columns = [f\"group{i}_members{j}\" for i in range(1, 5) for j in range(1, 5)]"
      ]
    },
    {
      "cell_type": "code",
      "execution_count": null,
      "metadata": {
        "id": "_0YJmXekWMA1",
        "colab": {
          "base_uri": "https://localhost:8080/"
        },
        "outputId": "c4582b35-5a8b-409d-b47e-fce8b40f3ba3"
      },
      "outputs": [
        {
          "output_type": "stream",
          "name": "stdout",
          "text": [
            "25.0\n",
            "37.916666666666664\n"
          ]
        }
      ],
      "source": [
        "# Evaluation of random grouping\n",
        "\n",
        "same_shuffling_score = compare_grouping_df(df_sampled, df_shuffled_seed)\n",
        "random_shuffling_score = compare_grouping_df(df_sampled, df_shuffled)\n",
        "\n",
        "print(same_shuffling_score)\n",
        "print(random_shuffling_score)"
      ]
    },
    {
      "cell_type": "markdown",
      "metadata": {
        "id": "uWOPmoa2-SIJ"
      },
      "source": [
        "## Heatmap"
      ]
    },
    {
      "cell_type": "code",
      "execution_count": null,
      "metadata": {
        "id": "THEIpfVPvXFQ",
        "colab": {
          "base_uri": "https://localhost:8080/",
          "height": 607
        },
        "outputId": "0fc731b9-f5fe-4a6d-df64-bdea33caef5f"
      },
      "outputs": [
        {
          "output_type": "display_data",
          "data": {
            "text/plain": [
              "<Figure size 1500x600 with 4 Axes>"
            ],
            "image/png": "[encoded data removed]"
          },
          "metadata": {}
        }
      ],
      "source": [
        "# Define your custom labels\n",
        "custom_labels = {\n",
        "    'template_NYT': 'NYT',\n",
        "    'template_NYT_example': 'NYT with example',\n",
        "    'template_altered': 'Altered',\n",
        "    'template_altered_example': 'Altered with example'\n",
        "}\n",
        "\n",
        "cmap1 = sns.color_palette(\"Blues\", as_cmap=True)\n",
        "cmap2 = sns.color_palette(\"Reds\", as_cmap=True)\n",
        "\n",
        "# Side-by-side heatmaps\n",
        "fig, axes = plt.subplots(1, 2, figsize=(15, 6))\n",
        "\n",
        "# Round the accuracy percentages\n",
        "accuracy_df_numeric = accuracy_df.astype(float)\n",
        "accuracy_df_rounded = accuracy_df_numeric.round(3)\n",
        "\n",
        "# Compare the df to the shuffling with seed\n",
        "sns.heatmap(accuracy_df_rounded, annot=True, fmt=\".2f\", cmap=cmap1, center=same_shuffling_score, linewidths=.5, ax=axes[0])\n",
        "axes[0].set_title('Accuracy Heatmap of Gemma (shuffling as in the input)')\n",
        "axes[0].set_xlabel('Temperature')\n",
        "axes[0].set_ylabel('Template')\n",
        "\n",
        "# Compare it to the random shuffling\n",
        "sns.heatmap(accuracy_df_rounded, annot=True, fmt=\".2f\", cmap=cmap2, center=random_shuffling_score, linewidths=.5, ax=axes[1])\n",
        "axes[1].set_title('Accuracy Heatmap of Gemma (with random shuffling)')\n",
        "axes[1].set_xlabel('Temperature')\n",
        "axes[1].set_ylabel('Template')\n",
        "\n",
        "# Set custom labels for y-axis\n",
        "axes[0].set_yticklabels([custom_labels[label] for label in accuracy_df.index])\n",
        "axes[1].set_yticklabels([custom_labels[label] for label in accuracy_df.index])\n",
        "\n",
        "plt.tight_layout()\n",
        "\n",
        "output_path = 'drive/My Drive/accuracy_heatmaps.png'\n",
        "plt.savefig(output_path)\n",
        "\n",
        "plt.show()\n"
      ]
    }
  ],
  "metadata": {
    "colab": {
      "provenance": [],
      "authorship_tag": "ABX9TyPxkwW+8nacW12Z7to25T2W",
      "include_colab_link": true
    },
    "kernelspec": {
      "display_name": "Python 3",
      "name": "python3"
    },
    "language_info": {
      "name": "python"
    }
  },
  "nbformat": 4,
  "nbformat_minor": 0
}